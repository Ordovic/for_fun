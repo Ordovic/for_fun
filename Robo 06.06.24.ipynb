{
 "cells": [
  {
   "cell_type": "code",
   "execution_count": 1,
   "id": "bd4de69b",
   "metadata": {
    "ExecuteTime": {
     "end_time": "2024-06-07T08:25:12.803520Z",
     "start_time": "2024-06-07T08:25:08.372346Z"
    }
   },
   "outputs": [],
   "source": [
    "import pandas as pd \n",
    "import datetime as dt \n",
    "import matplotlib.pyplot as plt"
   ]
  },
  {
   "cell_type": "code",
   "execution_count": 2,
   "id": "695c0c8d",
   "metadata": {
    "ExecuteTime": {
     "end_time": "2024-06-07T08:25:12.835156Z",
     "start_time": "2024-06-07T08:25:12.809133Z"
    }
   },
   "outputs": [],
   "source": [
    "timestamps = [\n",
    "    dt.datetime(2024,5,24,11,45,1),\n",
    "    dt.datetime(2024,5,27,11),\n",
    "    dt.datetime(2024,5,28,13),\n",
    "    dt.datetime(2024,5,31,11,30),\n",
    "    dt.datetime(2024,6,3,11),\n",
    "    dt.datetime(2024,6,4,11),\n",
    "    dt.datetime(2024,6,5,11)\n",
    "]\n",
    "\n",
    "directions = ['buy','buy','buy','buy','sell','sell','buy']\n",
    "\n",
    "prices_open = [\n",
    "    199.456, 199.451, 200.507, 199.931, 199.781, 198.757, 199.448\n",
    "]\n",
    "\n",
    "prices_close = [\n",
    "    199.935, 200.341, 200.582, 200.164, 199.628, 197.982, 199.467\n",
    "]"
   ]
  },
  {
   "cell_type": "code",
   "execution_count": 3,
   "id": "3c22d6bd",
   "metadata": {
    "ExecuteTime": {
     "end_time": "2024-06-07T08:25:12.883142Z",
     "start_time": "2024-06-07T08:25:12.856158Z"
    }
   },
   "outputs": [
    {
     "name": "stdout",
     "output_type": "stream",
     "text": [
      "buy: 199.456 --> 199.935 result: 0.479\n",
      "buy: 199.451 --> 200.341 result: 0.890\n",
      "buy: 200.507 --> 200.582 result: 0.075\n",
      "buy: 199.931 --> 200.164 result: 0.233\n",
      "sell: 199.781 --> 199.628 result: 0.153\n",
      "sell: 198.757 --> 197.982 result: 0.775\n",
      "buy: 199.448 --> 199.467 result: 0.019\n"
     ]
    }
   ],
   "source": [
    "common_res = 0\n",
    "results = []\n",
    "for o,c,d in zip(prices_open, prices_close, directions):\n",
    "    res = c - o if d == 'buy' else o - c\n",
    "    results.append(res)\n",
    "    print(f'{d}: {o} --> {c} result: {res:.3f}')\n",
    "    common_res += round(res,3)\n",
    "    "
   ]
  },
  {
   "cell_type": "code",
   "execution_count": 4,
   "id": "89d2cc2f",
   "metadata": {
    "ExecuteTime": {
     "end_time": "2024-06-07T08:25:12.914144Z",
     "start_time": "2024-06-07T08:25:12.891130Z"
    }
   },
   "outputs": [
    {
     "data": {
      "text/plain": [
       "2.624"
      ]
     },
     "execution_count": 4,
     "metadata": {},
     "output_type": "execute_result"
    }
   ],
   "source": [
    "common_res"
   ]
  },
  {
   "cell_type": "code",
   "execution_count": 5,
   "id": "848bdcdf",
   "metadata": {
    "ExecuteTime": {
     "end_time": "2024-06-07T08:25:12.946130Z",
     "start_time": "2024-06-07T08:25:12.922150Z"
    }
   },
   "outputs": [
    {
     "data": {
      "text/plain": [
       "16.93"
      ]
     },
     "execution_count": 5,
     "metadata": {},
     "output_type": "execute_result"
    }
   ],
   "source": [
    "k = 155\n",
    "volume = 0.01\n",
    "\n",
    "profit = round(100*volume*(1000*common_res/k),2)\n",
    "profit"
   ]
  },
  {
   "cell_type": "code",
   "execution_count": 6,
   "id": "dc7fdbdb",
   "metadata": {
    "ExecuteTime": {
     "end_time": "2024-06-07T08:25:13.008136Z",
     "start_time": "2024-06-07T08:25:12.952139Z"
    }
   },
   "outputs": [
    {
     "data": {
      "text/html": [
       "<div>\n",
       "<style scoped>\n",
       "    .dataframe tbody tr th:only-of-type {\n",
       "        vertical-align: middle;\n",
       "    }\n",
       "\n",
       "    .dataframe tbody tr th {\n",
       "        vertical-align: top;\n",
       "    }\n",
       "\n",
       "    .dataframe thead th {\n",
       "        text-align: right;\n",
       "    }\n",
       "</style>\n",
       "<table border=\"1\" class=\"dataframe\">\n",
       "  <thead>\n",
       "    <tr style=\"text-align: right;\">\n",
       "      <th></th>\n",
       "      <th>open</th>\n",
       "      <th>close</th>\n",
       "      <th>direction</th>\n",
       "      <th>result</th>\n",
       "    </tr>\n",
       "    <tr>\n",
       "      <th>date</th>\n",
       "      <th></th>\n",
       "      <th></th>\n",
       "      <th></th>\n",
       "      <th></th>\n",
       "    </tr>\n",
       "  </thead>\n",
       "  <tbody>\n",
       "    <tr>\n",
       "      <th>2024-05-24 11:45:01</th>\n",
       "      <td>199.456</td>\n",
       "      <td>199.935</td>\n",
       "      <td>buy</td>\n",
       "      <td>0.479</td>\n",
       "    </tr>\n",
       "    <tr>\n",
       "      <th>2024-05-27 11:00:00</th>\n",
       "      <td>199.451</td>\n",
       "      <td>200.341</td>\n",
       "      <td>buy</td>\n",
       "      <td>0.890</td>\n",
       "    </tr>\n",
       "    <tr>\n",
       "      <th>2024-05-28 13:00:00</th>\n",
       "      <td>200.507</td>\n",
       "      <td>200.582</td>\n",
       "      <td>buy</td>\n",
       "      <td>0.075</td>\n",
       "    </tr>\n",
       "    <tr>\n",
       "      <th>2024-05-31 11:30:00</th>\n",
       "      <td>199.931</td>\n",
       "      <td>200.164</td>\n",
       "      <td>buy</td>\n",
       "      <td>0.233</td>\n",
       "    </tr>\n",
       "    <tr>\n",
       "      <th>2024-06-03 11:00:00</th>\n",
       "      <td>199.781</td>\n",
       "      <td>199.628</td>\n",
       "      <td>sell</td>\n",
       "      <td>0.153</td>\n",
       "    </tr>\n",
       "    <tr>\n",
       "      <th>2024-06-04 11:00:00</th>\n",
       "      <td>198.757</td>\n",
       "      <td>197.982</td>\n",
       "      <td>sell</td>\n",
       "      <td>0.775</td>\n",
       "    </tr>\n",
       "    <tr>\n",
       "      <th>2024-06-05 11:00:00</th>\n",
       "      <td>199.448</td>\n",
       "      <td>199.467</td>\n",
       "      <td>buy</td>\n",
       "      <td>0.019</td>\n",
       "    </tr>\n",
       "  </tbody>\n",
       "</table>\n",
       "</div>"
      ],
      "text/plain": [
       "                        open    close direction  result\n",
       "date                                                   \n",
       "2024-05-24 11:45:01  199.456  199.935       buy   0.479\n",
       "2024-05-27 11:00:00  199.451  200.341       buy   0.890\n",
       "2024-05-28 13:00:00  200.507  200.582       buy   0.075\n",
       "2024-05-31 11:30:00  199.931  200.164       buy   0.233\n",
       "2024-06-03 11:00:00  199.781  199.628      sell   0.153\n",
       "2024-06-04 11:00:00  198.757  197.982      sell   0.775\n",
       "2024-06-05 11:00:00  199.448  199.467       buy   0.019"
      ]
     },
     "execution_count": 6,
     "metadata": {},
     "output_type": "execute_result"
    }
   ],
   "source": [
    "history = pd.DataFrame({\"date\":timestamps,\"open\":prices_open,\n",
    "                        \"close\":prices_close,\"direction\":directions,\"result\":results}).set_index('date')\n",
    "history "
   ]
  },
  {
   "cell_type": "code",
   "execution_count": 7,
   "id": "7f752466",
   "metadata": {
    "ExecuteTime": {
     "end_time": "2024-06-07T08:25:13.056154Z",
     "start_time": "2024-06-07T08:25:13.014140Z"
    }
   },
   "outputs": [
    {
     "data": {
      "text/html": [
       "<div>\n",
       "<style scoped>\n",
       "    .dataframe tbody tr th:only-of-type {\n",
       "        vertical-align: middle;\n",
       "    }\n",
       "\n",
       "    .dataframe tbody tr th {\n",
       "        vertical-align: top;\n",
       "    }\n",
       "\n",
       "    .dataframe thead th {\n",
       "        text-align: right;\n",
       "    }\n",
       "</style>\n",
       "<table border=\"1\" class=\"dataframe\">\n",
       "  <thead>\n",
       "    <tr style=\"text-align: right;\">\n",
       "      <th></th>\n",
       "      <th>open</th>\n",
       "      <th>close</th>\n",
       "      <th>direction</th>\n",
       "      <th>result</th>\n",
       "      <th>cumulative result</th>\n",
       "    </tr>\n",
       "    <tr>\n",
       "      <th>date</th>\n",
       "      <th></th>\n",
       "      <th></th>\n",
       "      <th></th>\n",
       "      <th></th>\n",
       "      <th></th>\n",
       "    </tr>\n",
       "  </thead>\n",
       "  <tbody>\n",
       "    <tr>\n",
       "      <th>2024-05-24 11:45:01</th>\n",
       "      <td>199.456</td>\n",
       "      <td>199.935</td>\n",
       "      <td>buy</td>\n",
       "      <td>0.479</td>\n",
       "      <td>479</td>\n",
       "    </tr>\n",
       "    <tr>\n",
       "      <th>2024-05-27 11:00:00</th>\n",
       "      <td>199.451</td>\n",
       "      <td>200.341</td>\n",
       "      <td>buy</td>\n",
       "      <td>0.890</td>\n",
       "      <td>1369</td>\n",
       "    </tr>\n",
       "    <tr>\n",
       "      <th>2024-05-28 13:00:00</th>\n",
       "      <td>200.507</td>\n",
       "      <td>200.582</td>\n",
       "      <td>buy</td>\n",
       "      <td>0.075</td>\n",
       "      <td>1444</td>\n",
       "    </tr>\n",
       "    <tr>\n",
       "      <th>2024-05-31 11:30:00</th>\n",
       "      <td>199.931</td>\n",
       "      <td>200.164</td>\n",
       "      <td>buy</td>\n",
       "      <td>0.233</td>\n",
       "      <td>1676</td>\n",
       "    </tr>\n",
       "    <tr>\n",
       "      <th>2024-06-03 11:00:00</th>\n",
       "      <td>199.781</td>\n",
       "      <td>199.628</td>\n",
       "      <td>sell</td>\n",
       "      <td>0.153</td>\n",
       "      <td>1830</td>\n",
       "    </tr>\n",
       "    <tr>\n",
       "      <th>2024-06-04 11:00:00</th>\n",
       "      <td>198.757</td>\n",
       "      <td>197.982</td>\n",
       "      <td>sell</td>\n",
       "      <td>0.775</td>\n",
       "      <td>2605</td>\n",
       "    </tr>\n",
       "    <tr>\n",
       "      <th>2024-06-05 11:00:00</th>\n",
       "      <td>199.448</td>\n",
       "      <td>199.467</td>\n",
       "      <td>buy</td>\n",
       "      <td>0.019</td>\n",
       "      <td>2624</td>\n",
       "    </tr>\n",
       "  </tbody>\n",
       "</table>\n",
       "</div>"
      ],
      "text/plain": [
       "                        open    close direction  result  cumulative result\n",
       "date                                                                      \n",
       "2024-05-24 11:45:01  199.456  199.935       buy   0.479                479\n",
       "2024-05-27 11:00:00  199.451  200.341       buy   0.890               1369\n",
       "2024-05-28 13:00:00  200.507  200.582       buy   0.075               1444\n",
       "2024-05-31 11:30:00  199.931  200.164       buy   0.233               1676\n",
       "2024-06-03 11:00:00  199.781  199.628      sell   0.153               1830\n",
       "2024-06-04 11:00:00  198.757  197.982      sell   0.775               2605\n",
       "2024-06-05 11:00:00  199.448  199.467       buy   0.019               2624"
      ]
     },
     "execution_count": 7,
     "metadata": {},
     "output_type": "execute_result"
    }
   ],
   "source": [
    "history['cumulative result'] = (history.result.cumsum()*1000).astype(int)\n",
    "history"
   ]
  },
  {
   "cell_type": "code",
   "execution_count": null,
   "id": "1b2dea53",
   "metadata": {
    "ExecuteTime": {
     "end_time": "2024-06-06T11:12:16.908873Z",
     "start_time": "2024-06-06T11:12:16.856881Z"
    }
   },
   "outputs": [],
   "source": []
  },
  {
   "cell_type": "code",
   "execution_count": 8,
   "id": "74de02f7",
   "metadata": {
    "ExecuteTime": {
     "end_time": "2024-06-07T08:25:13.620462Z",
     "start_time": "2024-06-07T08:25:13.067142Z"
    }
   },
   "outputs": [
    {
     "data": {
      "image/png": "[encoded data removed]",
      "text/plain": [
       "<Figure size 2000x1200 with 1 Axes>"
      ]
     },
     "metadata": {},
     "output_type": "display_data"
    }
   ],
   "source": [
    "plt.figure(figsize=(20,12))\n",
    "plt.plot(history.index,history['cumulative result'],marker = 'P',markersize=30, color ='violet', linestyle = '-.')\n",
    "plt.xticks(rotation=45)\n",
    "plt.grid()\n",
    "plt.show()"
   ]
  },
  {
   "cell_type": "code",
   "execution_count": 9,
   "id": "78f65c5b",
   "metadata": {
    "ExecuteTime": {
     "end_time": "2024-06-07T08:25:13.716448Z",
     "start_time": "2024-06-07T08:25:13.634496Z"
    }
   },
   "outputs": [
    {
     "data": {
      "text/html": [
       "<div>\n",
       "<style scoped>\n",
       "    .dataframe tbody tr th:only-of-type {\n",
       "        vertical-align: middle;\n",
       "    }\n",
       "\n",
       "    .dataframe tbody tr th {\n",
       "        vertical-align: top;\n",
       "    }\n",
       "\n",
       "    .dataframe thead th {\n",
       "        text-align: right;\n",
       "    }\n",
       "</style>\n",
       "<table border=\"1\" class=\"dataframe\">\n",
       "  <thead>\n",
       "    <tr style=\"text-align: right;\">\n",
       "      <th></th>\n",
       "      <th>open</th>\n",
       "      <th>close</th>\n",
       "      <th>direction</th>\n",
       "      <th>result</th>\n",
       "      <th>cumulative result</th>\n",
       "      <th>lot 0.01</th>\n",
       "      <th>lot 0.02</th>\n",
       "      <th>lot 0.05</th>\n",
       "      <th>lot 0.25</th>\n",
       "      <th>lot 0.4</th>\n",
       "    </tr>\n",
       "    <tr>\n",
       "      <th>date</th>\n",
       "      <th></th>\n",
       "      <th></th>\n",
       "      <th></th>\n",
       "      <th></th>\n",
       "      <th></th>\n",
       "      <th></th>\n",
       "      <th></th>\n",
       "      <th></th>\n",
       "      <th></th>\n",
       "      <th></th>\n",
       "    </tr>\n",
       "  </thead>\n",
       "  <tbody>\n",
       "    <tr>\n",
       "      <th>2024-05-24 11:45:01</th>\n",
       "      <td>199.456</td>\n",
       "      <td>199.935</td>\n",
       "      <td>buy</td>\n",
       "      <td>0.479</td>\n",
       "      <td>479</td>\n",
       "      <td>3.09</td>\n",
       "      <td>6.18</td>\n",
       "      <td>15.45</td>\n",
       "      <td>77.26</td>\n",
       "      <td>123.61</td>\n",
       "    </tr>\n",
       "    <tr>\n",
       "      <th>2024-05-27 11:00:00</th>\n",
       "      <td>199.451</td>\n",
       "      <td>200.341</td>\n",
       "      <td>buy</td>\n",
       "      <td>0.890</td>\n",
       "      <td>1369</td>\n",
       "      <td>8.83</td>\n",
       "      <td>17.66</td>\n",
       "      <td>44.16</td>\n",
       "      <td>220.81</td>\n",
       "      <td>353.29</td>\n",
       "    </tr>\n",
       "    <tr>\n",
       "      <th>2024-05-28 13:00:00</th>\n",
       "      <td>200.507</td>\n",
       "      <td>200.582</td>\n",
       "      <td>buy</td>\n",
       "      <td>0.075</td>\n",
       "      <td>1444</td>\n",
       "      <td>9.32</td>\n",
       "      <td>18.63</td>\n",
       "      <td>46.58</td>\n",
       "      <td>232.90</td>\n",
       "      <td>372.65</td>\n",
       "    </tr>\n",
       "    <tr>\n",
       "      <th>2024-05-31 11:30:00</th>\n",
       "      <td>199.931</td>\n",
       "      <td>200.164</td>\n",
       "      <td>buy</td>\n",
       "      <td>0.233</td>\n",
       "      <td>1676</td>\n",
       "      <td>10.81</td>\n",
       "      <td>21.63</td>\n",
       "      <td>54.06</td>\n",
       "      <td>270.32</td>\n",
       "      <td>432.52</td>\n",
       "    </tr>\n",
       "    <tr>\n",
       "      <th>2024-06-03 11:00:00</th>\n",
       "      <td>199.781</td>\n",
       "      <td>199.628</td>\n",
       "      <td>sell</td>\n",
       "      <td>0.153</td>\n",
       "      <td>1830</td>\n",
       "      <td>11.81</td>\n",
       "      <td>23.61</td>\n",
       "      <td>59.03</td>\n",
       "      <td>295.16</td>\n",
       "      <td>472.26</td>\n",
       "    </tr>\n",
       "    <tr>\n",
       "      <th>2024-06-04 11:00:00</th>\n",
       "      <td>198.757</td>\n",
       "      <td>197.982</td>\n",
       "      <td>sell</td>\n",
       "      <td>0.775</td>\n",
       "      <td>2605</td>\n",
       "      <td>16.81</td>\n",
       "      <td>33.61</td>\n",
       "      <td>84.03</td>\n",
       "      <td>420.16</td>\n",
       "      <td>672.26</td>\n",
       "    </tr>\n",
       "    <tr>\n",
       "      <th>2024-06-05 11:00:00</th>\n",
       "      <td>199.448</td>\n",
       "      <td>199.467</td>\n",
       "      <td>buy</td>\n",
       "      <td>0.019</td>\n",
       "      <td>2624</td>\n",
       "      <td>16.93</td>\n",
       "      <td>33.86</td>\n",
       "      <td>84.65</td>\n",
       "      <td>423.23</td>\n",
       "      <td>677.16</td>\n",
       "    </tr>\n",
       "  </tbody>\n",
       "</table>\n",
       "</div>"
      ],
      "text/plain": [
       "                        open    close direction  result  cumulative result  \\\n",
       "date                                                                         \n",
       "2024-05-24 11:45:01  199.456  199.935       buy   0.479                479   \n",
       "2024-05-27 11:00:00  199.451  200.341       buy   0.890               1369   \n",
       "2024-05-28 13:00:00  200.507  200.582       buy   0.075               1444   \n",
       "2024-05-31 11:30:00  199.931  200.164       buy   0.233               1676   \n",
       "2024-06-03 11:00:00  199.781  199.628      sell   0.153               1830   \n",
       "2024-06-04 11:00:00  198.757  197.982      sell   0.775               2605   \n",
       "2024-06-05 11:00:00  199.448  199.467       buy   0.019               2624   \n",
       "\n",
       "                     lot 0.01  lot 0.02  lot 0.05  lot 0.25  lot 0.4  \n",
       "date                                                                  \n",
       "2024-05-24 11:45:01      3.09      6.18     15.45     77.26   123.61  \n",
       "2024-05-27 11:00:00      8.83     17.66     44.16    220.81   353.29  \n",
       "2024-05-28 13:00:00      9.32     18.63     46.58    232.90   372.65  \n",
       "2024-05-31 11:30:00     10.81     21.63     54.06    270.32   432.52  \n",
       "2024-06-03 11:00:00     11.81     23.61     59.03    295.16   472.26  \n",
       "2024-06-04 11:00:00     16.81     33.61     84.03    420.16   672.26  \n",
       "2024-06-05 11:00:00     16.93     33.86     84.65    423.23   677.16  "
      ]
     },
     "execution_count": 9,
     "metadata": {},
     "output_type": "execute_result"
    }
   ],
   "source": [
    "for lot_size in (0.01,0.02,0.05,0.25,0.4):\n",
    "    history[f'lot {lot_size}'] = round(100*lot_size*(history['cumulative result']/k),2)\n",
    "\n",
    "history "
   ]
  }
 ],
 "metadata": {
  "kernelspec": {
   "display_name": "Python 3 (ipykernel)",
   "language": "python",
   "name": "python3"
  },
  "language_info": {
   "codemirror_mode": {
    "name": "ipython",
    "version": 3
   },
   "file_extension": ".py",
   "mimetype": "text/x-python",
   "name": "python",
   "nbconvert_exporter": "python",
   "pygments_lexer": "ipython3",
   "version": "3.9.13"
  },
  "varInspector": {
   "cols": {
    "lenName": 16,
    "lenType": 16,
    "lenVar": 40
   },
   "kernels_config": {
    "python": {
     "delete_cmd_postfix": "",
     "delete_cmd_prefix": "del ",
     "library": "var_list.py",
     "varRefreshCmd": "print(var_dic_list())"
    },
    "r": {
     "delete_cmd_postfix": ") ",
     "delete_cmd_prefix": "rm(",
     "library": "var_list.r",
     "varRefreshCmd": "cat(var_dic_list()) "
    }
   },
   "types_to_exclude": [
    "module",
    "function",
    "builtin_function_or_method",
    "instance",
    "_Feature"
   ],
   "window_display": false
  }
 },
 "nbformat": 4,
 "nbformat_minor": 5
}
